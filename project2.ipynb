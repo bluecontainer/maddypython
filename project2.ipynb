{
 "cells": [
  {
   "cell_type": "markdown",
   "metadata": {},
   "source": [
    "<a href=\"https://colab.research.google.com/github/bluecontainer/maddypython/blob/main/project2.ipynb\" target=\"_parent\"><img src=\"https://colab.research.google.com/assets/colab-badge.svg\" alt=\"Open In Colab\"/></a>"
   ]
  },
  {
   "cell_type": "code",
   "execution_count": 11,
   "metadata": {},
   "outputs": [
    {
     "name": "stdout",
     "output_type": "stream",
     "text": [
      "0.5\n",
      "0.5\n",
      "0.5999999999999995\n",
      "0.5999999999999995\n",
      "0.33333333333333215\n",
      "0.33333333333333354\n"
     ]
    }
   ],
   "source": [
    "import numpy as np\n",
    "import random\n",
    "import pandas as pd\n",
    "from functools import partial\n",
    "\n",
    "def calc_nextvalue(init, a, prevvalue, i):\n",
    "    if prevvalue == 0:\n",
    "        prevvalue = init\n",
    "    return a * prevvalue * (1 - prevvalue)\n",
    "\n",
    "def calc_forrange(init, a, period):\n",
    "    rangevalues = np.arange(period - 1)\n",
    "    partialcalc = partial(calc_nextvalue, init, a)\n",
    "    calc = np.frompyfunc(partialcalc, 2, 1)\n",
    "    result = calc.accumulate(rangevalues)\n",
    "    return pd.DataFrame(data=result, columns=['populationfraction'])\n",
    "\n",
    "# a = 2\n",
    "# this doesn't change\n",
    "print(calc_forrange(0.5, 2, 50).tail(1).values[0][0])\n",
    "print(calc_forrange(0.1, 2, 50).tail(1).values[0][0])\n",
    "\n",
    "# a = 2.5\n",
    "print(calc_forrange(0.1, 2.5, 50).tail(1).values[0][0])\n",
    "print(calc_forrange(0.9, 2.5, 50).tail(1).values[0][0])\n",
    "\n",
    "# a = 1.5\n",
    "print(calc_forrange(0.2, 1.5, 50).tail(1).values[0][0])\n",
    "print(calc_forrange(0.6, 1.5, 50).tail(1).values[0][0])\n"
   ]
  }
 ],
 "metadata": {
  "kernelspec": {
   "display_name": "Python 3",
   "language": "python",
   "name": "python3"
  },
  "language_info": {
   "codemirror_mode": {
    "name": "ipython",
    "version": 3
   },
   "file_extension": ".py",
   "mimetype": "text/x-python",
   "name": "python",
   "nbconvert_exporter": "python",
   "pygments_lexer": "ipython3",
   "version": "3.9.13"
  },
  "orig_nbformat": 4
 },
 "nbformat": 4,
 "nbformat_minor": 2
}
