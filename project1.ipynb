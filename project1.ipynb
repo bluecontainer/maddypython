{
  "cells": [
    {
      "cell_type": "markdown",
      "metadata": {
        "colab_type": "text",
        "id": "view-in-github"
      },
      "source": [
        "<a href=\"https://colab.research.google.com/github/bluecontainer/maddypython/blob/main/project1.ipynb\" target=\"_parent\"><img src=\"https://colab.research.google.com/assets/colab-badge.svg\" alt=\"Open In Colab\"/></a>"
      ]
    },
    {
      "cell_type": "markdown",
      "metadata": {
        "id": "AuhcwYtgoo-b"
      },
      "source": [
        "Functions that generate data for analysis in later cells"
      ]
    },
    {
      "cell_type": "code",
      "execution_count": 137,
      "metadata": {
        "id": "bllh6Pz0oEur"
      },
      "outputs": [],
      "source": [
        "import numpy as np\n",
        "import random\n",
        "import pandas as pd\n",
        "from functools import partial\n",
        "\n",
        "def calc_nextvalue(oldvalue):\n",
        "    r = (random.random()/10) - 0.05\n",
        "    return (1 + r)*oldvalue + 10\n",
        "\n",
        "def calc_newvalue(oldvalue, i):\n",
        "    return calc_nextvalue(oldvalue)\n",
        "\n",
        "def calc_newvaluewithinit(init, oldvalue, i):\n",
        "    if oldvalue == 0:\n",
        "        oldvalue = init\n",
        "    return calc_newvalue(oldvalue, i)\n",
        "\n",
        "def calc_investmentperiod(period):\n",
        "    months = np.arange(period - 1)\n",
        "    calc = np.frompyfunc(partial(calc_newvaluewithinit, 1000), 2, 1)\n",
        "    result = calc.accumulate(months)\n",
        "    return pd.DataFrame(data=result, columns=['portfoliovalue'])\n",
        "\n",
        "def calc_lastinvestmentperiod(period, iteration):\n",
        "    return calc_investmentperiod(period).tail(1).values[0][0]\n",
        "\n",
        "def get_investmentfirstdoubled(df):\n",
        "    dfDoubled = df[(df['portfoliovalue'] > 2000)]\n",
        "    return dfDoubled.index.values[0] if dfDoubled.size > 0 else None\n",
        "\n",
        "def get_lastinvestmentvalue(df):\n",
        "    return df.tail(1).values[0][0]\n",
        "\n",
        "def calc_investmentperiodstats(period, iteration):\n",
        "    df = calc_investmentperiod(period)\n",
        "    periodfirstdoubled = get_investmentfirstdoubled(df)\n",
        "    lastinvestmentvalue = get_lastinvestmentvalue(df)\n",
        "    return (periodfirstdoubled, lastinvestmentvalue)\n",
        "\n",
        "def calc_simulation1(period, samples):\n",
        "    iterations = np.arange(samples)\n",
        "    calc = np.frompyfunc(partial(calc_lastinvestmentperiod, period), 1, 1)\n",
        "    return pd.DataFrame(data=calc(iterations), columns = ['finalportfoliovalue'])\n",
        "\n",
        "def calc_simulation2(period, samples):\n",
        "    iterations = np.arange(samples)\n",
        "    data = np.frompyfunc(partial(calc_investmentperiodstats, period), 1, 1)(iterations)\n",
        "    return pd.DataFrame.from_records(data=data, columns=['firstdoubledperiod', 'finalportfoliovalue'])\n"
      ]
    },
    {
      "cell_type": "markdown",
      "metadata": {
        "id": "H4eF0DgAo0kC"
      },
      "source": [
        "This runs the simulation to generate stats of last investment value and first period the investment doubled."
      ]
    },
    {
      "cell_type": "code",
      "execution_count": 138,
      "metadata": {
        "id": "Inn6Oia2oEux"
      },
      "outputs": [],
      "source": [
        "dfSimStats = calc_simulation2(120, 250)\n"
      ]
    },
    {
      "cell_type": "markdown",
      "metadata": {
        "id": "_OjWkgJPpBMF"
      },
      "source": [
        "Using the generated stats, get the min and max last investment value."
      ]
    },
    {
      "cell_type": "code",
      "execution_count": 139,
      "metadata": {
        "colab": {
          "base_uri": "https://localhost:8080/"
        },
        "id": "Ho2kHYnJoEuy",
        "outputId": "ded34d62-9d9b-40bd-e859-1c5994767ea7"
      },
      "outputs": [
        {
          "name": "stdout",
          "output_type": "stream",
          "text": [
            "3692.9192736788095\n",
            "1173.7201668829096\n"
          ]
        }
      ],
      "source": [
        "print(dfSimStats['finalportfoliovalue'].max())\n",
        "print(dfSimStats['finalportfoliovalue'].min())"
      ]
    },
    {
      "cell_type": "code",
      "execution_count": 140,
      "metadata": {
        "id": "d78dRnKgoEuz",
        "outputId": "9daac734-f671-4c1b-e533-9a1095b5863e"
      },
      "outputs": [
        {
          "data": {
            "text/plain": [
              "<Axes: >"
            ]
          },
          "execution_count": 140,
          "metadata": {},
          "output_type": "execute_result"
        },
        {
          "data": {
            "image/png": "[encoded data removed]",
            "text/plain": [
              "<Figure size 640x480 with 1 Axes>"
            ]
          },
          "metadata": {},
          "output_type": "display_data"
        }
      ],
      "source": [
        "dfSimStats['finalportfoliovalue'].hist()"
      ]
    },
    {
      "cell_type": "code",
      "execution_count": 141,
      "metadata": {
        "id": "Ml8fpnTwoEu0",
        "outputId": "a2837ff6-1503-48c0-92b3-39d3db2c2a60"
      },
      "outputs": [
        {
          "name": "stdout",
          "output_type": "stream",
          "text": [
            "117.0\n",
            "40.0\n"
          ]
        }
      ],
      "source": [
        "print(dfSimStats['firstdoubledperiod'].max())\n",
        "print(dfSimStats['firstdoubledperiod'].min())"
      ]
    },
    {
      "cell_type": "code",
      "execution_count": 142,
      "metadata": {
        "id": "NX90hz9moEu0",
        "outputId": "fee6be59-fe56-494d-a621-d6e808084025"
      },
      "outputs": [
        {
          "data": {
            "text/plain": [
              "<Axes: >"
            ]
          },
          "execution_count": 142,
          "metadata": {},
          "output_type": "execute_result"
        },
        {
          "data": {
            "image/png": "[encoded data removed]",
            "text/plain": [
              "<Figure size 640x480 with 1 Axes>"
            ]
          },
          "metadata": {},
          "output_type": "display_data"
        }
      ],
      "source": [
        "dfSimStats['firstdoubledperiod'].hist()"
      ]
    },
    {
      "cell_type": "code",
      "execution_count": 143,
      "metadata": {
        "id": "pIOMwwSKoEu1",
        "outputId": "a9a7dc2b-995f-49c4-ec9e-cfa7bda78aa3"
      },
      "outputs": [
        {
          "name": "stdout",
          "output_type": "stream",
          "text": [
            "5825.972975803993\n"
          ]
        }
      ],
      "source": [
        "# df = calc_investmentperiod(120)\n",
        "df = calc_simulation1(120, 250)\n",
        "print(df.values.max())"
      ]
    }
  ],
  "metadata": {
    "colab": {
      "include_colab_link": true,
      "provenance": []
    },
    "kernelspec": {
      "display_name": "Python 3",
      "language": "python",
      "name": "python3"
    },
    "language_info": {
      "codemirror_mode": {
        "name": "ipython",
        "version": 3
      },
      "file_extension": ".py",
      "mimetype": "text/x-python",
      "name": "python",
      "nbconvert_exporter": "python",
      "pygments_lexer": "ipython3",
      "version": "3.9.13"
    },
    "orig_nbformat": 4
  },
  "nbformat": 4,
  "nbformat_minor": 0
}
