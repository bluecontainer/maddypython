{
  "cells": [
    {
      "cell_type": "markdown",
      "metadata": {
        "colab_type": "text",
        "id": "view-in-github"
      },
      "source": [
        "<a href=\"https://colab.research.google.com/github/bluecontainer/maddypython/blob/main/project1.ipynb\" target=\"_parent\"><img src=\"https://colab.research.google.com/assets/colab-badge.svg\" alt=\"Open In Colab\"/></a>"
      ]
    },
    {
      "cell_type": "markdown",
      "metadata": {
        "id": "AuhcwYtgoo-b"
      },
      "source": [
        "Functions that generate data for analysis in later cells"
      ]
    },
    {
      "cell_type": "code",
      "execution_count": 161,
      "metadata": {
        "id": "bllh6Pz0oEur"
      },
      "outputs": [],
      "source": [
        "import numpy as np\n",
        "import random\n",
        "import pandas as pd\n",
        "from functools import partial\n",
        "\n",
        "def calc_nextvalue(init, a, prevvalue, i):\n",
        "    if prevvalue == 0:\n",
        "        prevvalue = init\n",
        "    r = (random.random()/10) - 0.05\n",
        "    return (1 + r) * prevvalue + a\n",
        "\n",
        "def calc_investmentperiod(period):\n",
        "    months = np.arange(period - 1)\n",
        "    calc = np.frompyfunc(partial(calc_nextvalue, 1000, 10), 2, 1)\n",
        "    result = calc.accumulate(months)\n",
        "    return pd.DataFrame(data=result, columns=['portfoliovalue'])\n",
        "\n",
        "def get_investmentfirstdoubled(df):\n",
        "    dfDoubled = df[(df['portfoliovalue'] > 2000)]\n",
        "    return dfDoubled.index.values[0] if dfDoubled.size > 0 else None\n",
        "\n",
        "def get_lastinvestmentvalue(df):\n",
        "    return df.tail(1).values[0][0]\n",
        "\n",
        "def calc_investmentperiodstats(period, i):\n",
        "    df = calc_investmentperiod(period)\n",
        "    periodfirstdoubled = get_investmentfirstdoubled(df)\n",
        "    lastinvestmentvalue = get_lastinvestmentvalue(df)\n",
        "    return (periodfirstdoubled, lastinvestmentvalue)\n",
        "\n",
        "def calc_simulation(period, samples):\n",
        "    iterations = np.arange(samples)\n",
        "    data = np.frompyfunc(partial(calc_investmentperiodstats, period), 1, 1)(iterations)\n",
        "    return pd.DataFrame.from_records(data=data, columns=['firstdoubledperiod', 'finalportfoliovalue'])\n"
      ]
    },
    {
      "cell_type": "markdown",
      "metadata": {
        "id": "H4eF0DgAo0kC"
      },
      "source": [
        "This runs the simulation to generate stats of last investment value and first period the investment doubled."
      ]
    },
    {
      "cell_type": "code",
      "execution_count": 162,
      "metadata": {
        "id": "Inn6Oia2oEux"
      },
      "outputs": [],
      "source": [
        "dfSimStats = calc_simulation(120, 250)\n"
      ]
    },
    {
      "cell_type": "markdown",
      "metadata": {
        "id": "_OjWkgJPpBMF"
      },
      "source": [
        "Using the generated stats, get the min and max last investment value."
      ]
    },
    {
      "cell_type": "code",
      "execution_count": 163,
      "metadata": {
        "colab": {
          "base_uri": "https://localhost:8080/"
        },
        "id": "Ho2kHYnJoEuy",
        "outputId": "ded34d62-9d9b-40bd-e859-1c5994767ea7"
      },
      "outputs": [
        {
          "name": "stdout",
          "output_type": "stream",
          "text": [
            "4115.348416797713\n",
            "1219.595177225321\n"
          ]
        }
      ],
      "source": [
        "print(dfSimStats['finalportfoliovalue'].max())\n",
        "print(dfSimStats['finalportfoliovalue'].min())"
      ]
    },
    {
      "cell_type": "code",
      "execution_count": 164,
      "metadata": {
        "id": "d78dRnKgoEuz",
        "outputId": "9daac734-f671-4c1b-e533-9a1095b5863e"
      },
      "outputs": [
        {
          "data": {
            "text/plain": [
              "<Axes: >"
            ]
          },
          "execution_count": 164,
          "metadata": {},
          "output_type": "execute_result"
        },
        {
          "data": {
            "image/png": "[encoded data removed]",
            "text/plain": [
              "<Figure size 640x480 with 1 Axes>"
            ]
          },
          "metadata": {},
          "output_type": "display_data"
        }
      ],
      "source": [
        "dfSimStats['finalportfoliovalue'].hist()"
      ]
    },
    {
      "cell_type": "code",
      "execution_count": 165,
      "metadata": {
        "id": "Ml8fpnTwoEu0",
        "outputId": "a2837ff6-1503-48c0-92b3-39d3db2c2a60"
      },
      "outputs": [
        {
          "name": "stdout",
          "output_type": "stream",
          "text": [
            "116.0\n",
            "38.0\n"
          ]
        }
      ],
      "source": [
        "print(dfSimStats['firstdoubledperiod'].max())\n",
        "print(dfSimStats['firstdoubledperiod'].min())"
      ]
    },
    {
      "cell_type": "code",
      "execution_count": 166,
      "metadata": {
        "id": "NX90hz9moEu0",
        "outputId": "fee6be59-fe56-494d-a621-d6e808084025"
      },
      "outputs": [
        {
          "data": {
            "text/plain": [
              "<Axes: >"
            ]
          },
          "execution_count": 166,
          "metadata": {},
          "output_type": "execute_result"
        },
        {
          "data": {
            "image/png": "[encoded data removed]",
            "text/plain": [
              "<Figure size 640x480 with 1 Axes>"
            ]
          },
          "metadata": {},
          "output_type": "display_data"
        }
      ],
      "source": [
        "dfSimStats['firstdoubledperiod'].hist()"
      ]
    }
  ],
  "metadata": {
    "colab": {
      "include_colab_link": true,
      "provenance": []
    },
    "kernelspec": {
      "display_name": "Python 3",
      "language": "python",
      "name": "python3"
    },
    "language_info": {
      "codemirror_mode": {
        "name": "ipython",
        "version": 3
      },
      "file_extension": ".py",
      "mimetype": "text/x-python",
      "name": "python",
      "nbconvert_exporter": "python",
      "pygments_lexer": "ipython3",
      "version": "3.9.13"
    },
    "orig_nbformat": 4
  },
  "nbformat": 4,
  "nbformat_minor": 0
}
