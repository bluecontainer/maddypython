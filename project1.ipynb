{
  "cells": [
    {
      "cell_type": "markdown",
      "metadata": {
        "id": "view-in-github",
        "colab_type": "text"
      },
      "source": [
        "<a href=\"https://colab.research.google.com/github/bluecontainer/maddypython/blob/main/project1.ipynb\" target=\"_parent\"><img src=\"https://colab.research.google.com/assets/colab-badge.svg\" alt=\"Open In Colab\"/></a>"
      ]
    },
    {
      "cell_type": "markdown",
      "source": [
        "Functions that generate data for analysis in later cells"
      ],
      "metadata": {
        "id": "AuhcwYtgoo-b"
      }
    },
    {
      "cell_type": "code",
      "execution_count": 1,
      "metadata": {
        "id": "bllh6Pz0oEur"
      },
      "outputs": [],
      "source": [
        "import numpy as np\n",
        "import random\n",
        "import pandas as pd\n",
        "import itertools\n",
        "from functools import partial\n",
        "\n",
        "def calc_nextvalue(oldvalue):\n",
        "    r = (random.random()/10) - 0.05\n",
        "    return (1 + r)*oldvalue + 10\n",
        "\n",
        "def calc_newvalue(oldvalue, i):\n",
        "    return calc_nextvalue(oldvalue)\n",
        "\n",
        "def calc_investmentperiod(period):\n",
        "    months = np.arange(period - 1)\n",
        "    result = itertools.accumulate(months, calc_newvalue, initial=calc_nextvalue(1000))\n",
        "    return pd.DataFrame(data=result, columns=['portfoliovalue'])\n",
        "\n",
        "def calc_lastinvestmentperiod(period, iteration):\n",
        "    return calc_investmentperiod(period).tail(1).values[0][0]\n",
        "\n",
        "def get_investmentfirstdoubled(df):\n",
        "    dfDoubled = df[(df['portfoliovalue'] > 2000)]\n",
        "    return dfDoubled.index.values[0] if dfDoubled.size > 0 else None\n",
        "\n",
        "def get_lastinvestmentvalue(df):\n",
        "    return df.tail(1).values[0][0]\n",
        "\n",
        "def calc_investmentperiodstats(period, iteration):\n",
        "    df = calc_investmentperiod(period)\n",
        "    periodfirstdoubled = get_investmentfirstdoubled(df)\n",
        "    lastinvestmentvalue = get_lastinvestmentvalue(df)\n",
        "    return (periodfirstdoubled, lastinvestmentvalue)\n",
        "\n",
        "def calc_simulation1(period, samples):\n",
        "    iterations = np.arange(samples)\n",
        "    return pd.DataFrame(data=np.frompyfunc(partial(calc_lastinvestmentperiod, period), 1, 1)(iterations), columns = ['finalportfoliovalue'])\n",
        "\n",
        "def calc_simulation2(period, samples):\n",
        "    iterations = np.arange(samples)\n",
        "    data = np.frompyfunc(partial(calc_investmentperiodstats, period), 1, 1)(iterations)\n",
        "    return pd.DataFrame.from_records(data=data, columns=['firstdoubledperiod', 'finalportfoliovalue'])\n"
      ]
    },
    {
      "cell_type": "markdown",
      "source": [
        "This runs the simulation to generate stats of last investment value and first period the investment doubled."
      ],
      "metadata": {
        "id": "H4eF0DgAo0kC"
      }
    },
    {
      "cell_type": "code",
      "execution_count": 2,
      "metadata": {
        "id": "Inn6Oia2oEux"
      },
      "outputs": [],
      "source": [
        "dfSimStats = calc_simulation2(120, 250)\n"
      ]
    },
    {
      "cell_type": "markdown",
      "source": [
        "Using the generated stats, get the min and max last investment value."
      ],
      "metadata": {
        "id": "_OjWkgJPpBMF"
      }
    },
    {
      "cell_type": "code",
      "execution_count": 3,
      "metadata": {
        "id": "Ho2kHYnJoEuy",
        "outputId": "ded34d62-9d9b-40bd-e859-1c5994767ea7",
        "colab": {
          "base_uri": "https://localhost:8080/"
        }
      },
      "outputs": [
        {
          "output_type": "stream",
          "name": "stdout",
          "text": [
            "3801.0309121035834\n",
            "1020.7592751929698\n"
          ]
        }
      ],
      "source": [
        "print(dfSimStats['finalportfoliovalue'].max())\n",
        "print(dfSimStats['finalportfoliovalue'].min())"
      ]
    },
    {
      "cell_type": "code",
      "execution_count": null,
      "metadata": {
        "id": "d78dRnKgoEuz",
        "outputId": "9daac734-f671-4c1b-e533-9a1095b5863e"
      },
      "outputs": [
        {
          "data": {
            "text/plain": [
              "<Axes: >"
            ]
          },
          "execution_count": 81,
          "metadata": {},
          "output_type": "execute_result"
        },
        {
          "data": {
            "image/png": "[encoded data removed]",
            "text/plain": [
              "<Figure size 640x480 with 1 Axes>"
            ]
          },
          "metadata": {},
          "output_type": "display_data"
        }
      ],
      "source": [
        "dfSimStats['finalportfoliovalue'].hist()"
      ]
    },
    {
      "cell_type": "code",
      "execution_count": null,
      "metadata": {
        "id": "Ml8fpnTwoEu0",
        "outputId": "a2837ff6-1503-48c0-92b3-39d3db2c2a60"
      },
      "outputs": [
        {
          "name": "stdout",
          "output_type": "stream",
          "text": [
            "119.0\n",
            "36.0\n"
          ]
        }
      ],
      "source": [
        "print(dfSimStats['firstdoubledperiod'].max())\n",
        "print(dfSimStats['firstdoubledperiod'].min())"
      ]
    },
    {
      "cell_type": "code",
      "execution_count": null,
      "metadata": {
        "id": "NX90hz9moEu0",
        "outputId": "fee6be59-fe56-494d-a621-d6e808084025"
      },
      "outputs": [
        {
          "data": {
            "text/plain": [
              "<Axes: >"
            ]
          },
          "execution_count": 83,
          "metadata": {},
          "output_type": "execute_result"
        },
        {
          "data": {
            "image/png": "[encoded data removed]",
            "text/plain": [
              "<Figure size 640x480 with 1 Axes>"
            ]
          },
          "metadata": {},
          "output_type": "display_data"
        }
      ],
      "source": [
        "dfSimStats['firstdoubledperiod'].hist()"
      ]
    },
    {
      "cell_type": "code",
      "execution_count": null,
      "metadata": {
        "id": "pIOMwwSKoEu1",
        "outputId": "a9a7dc2b-995f-49c4-ec9e-cfa7bda78aa3"
      },
      "outputs": [
        {
          "name": "stdout",
          "output_type": "stream",
          "text": [
            "3779.5509008602553\n"
          ]
        }
      ],
      "source": [
        "# df = calc_investmentperiod(120)\n",
        "df = calc_simulation1(120, 250)\n",
        "print(df.values.max())"
      ]
    }
  ],
  "metadata": {
    "kernelspec": {
      "display_name": "Python 3",
      "language": "python",
      "name": "python3"
    },
    "language_info": {
      "codemirror_mode": {
        "name": "ipython",
        "version": 3
      },
      "file_extension": ".py",
      "mimetype": "text/x-python",
      "name": "python",
      "nbconvert_exporter": "python",
      "pygments_lexer": "ipython3",
      "version": "3.9.13"
    },
    "orig_nbformat": 4,
    "colab": {
      "provenance": [],
      "include_colab_link": true
    }
  },
  "nbformat": 4,
  "nbformat_minor": 0
}